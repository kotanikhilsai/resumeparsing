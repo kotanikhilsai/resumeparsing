{
 "cells": [
  {
   "cell_type": "code",
   "execution_count": 38,
   "metadata": {},
   "outputs": [
    {
     "name": "stdout",
     "output_type": "stream",
     "text": [
      "['1350 Petrarca Drive Kent, Ohio 44243 • ', ''] ['jdoe56@kent.edu'] ['330-602-976']\n"
     ]
    }
   ],
   "source": [
    "import tika\n",
    "from tika import parser\n",
    "import re\n",
    "class ResumeParsing:\n",
    "    def parseAnyFile():\n",
    "        tika.initVM()\n",
    "        regular_expression = re.compile(r\"[A-Z0-9._%+-]+@[A-Z0-9.-]+\\.[A-Z]{2,4}\", re.IGNORECASE)\n",
    "        regular_expression1 = re.compile(r'\\d{3}-+\\d{3}-+\\d{3}', re.IGNORECASE)\n",
    "        regular_expression2 = re.compile(r'.*?(?=[A-Z0-9._%+-]+@[A-Z0-9.-]+\\.[A-Z]{2,4})', re.IGNORECASE)\n",
    "        regular_expression3 = re.compile(r'.*?(?=\\d{3}-+\\d{3}-+\\d{3})', re.IGNORECASE)\n",
    "        result = re.findall(regular_expression,parsed[\"content\"])\n",
    "        result1 = re.findall(regular_expression1,parsed[\"content\"])\n",
    "        r2=re.findall(regular_expression2,parsed[\"content\"])\n",
    "        r3=re.findall(regular_expression3,parsed[\"content\"])\n",
    "        k=r3\n",
    "        if(len(r2)<len(r3)):\n",
    "            k=r2\n",
    "        print(k,result,result1)\n",
    "    if __name__==\"__main__\":\n",
    "        parseAnyFile()\n"
   ]
  },
  {
   "cell_type": "code",
   "execution_count": null,
   "metadata": {
    "collapsed": true
   },
   "outputs": [],
   "source": []
  }
 ],
 "metadata": {
  "kernelspec": {
   "display_name": "Python 3",
   "language": "python",
   "name": "python3"
  },
  "language_info": {
   "codemirror_mode": {
    "name": "ipython",
    "version": 3
   },
   "file_extension": ".py",
   "mimetype": "text/x-python",
   "name": "python",
   "nbconvert_exporter": "python",
   "pygments_lexer": "ipython3",
   "version": "3.6.2"
  }
 },
 "nbformat": 4,
 "nbformat_minor": 2
}
